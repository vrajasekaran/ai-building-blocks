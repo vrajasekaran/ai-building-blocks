{
 "cells": [
  {
   "cell_type": "code",
   "execution_count": null,
   "id": "bc5da1c8",
   "metadata": {},
   "outputs": [],
   "source": [
    "from transformers import BertModel, AutoTokenizer\n",
    "import pandas as pd\n",
    "\n",
    "model_name = \"bert-base-cased\"\n",
    "\n",
    "model = BertModel.from_pretrained(model_name)\n",
    "tokenizer = AutoTokenizer.from_pretrained(model_name)\n",
    "\n",
    "sentence = \"when will you be back? when life gives you lemons, don't make lemonade\"\n",
    "tokens = tokenizer.tokenize(sentence)\n",
    "print(tokens)\n",
    "\n",
    "\n"
   ]
  },
  {
   "cell_type": "code",
   "execution_count": null,
   "id": "9024a86a",
   "metadata": {},
   "outputs": [],
   "source": [
    "vocab = tokenizer.vocab\n",
    "print(vocab)\n",
    "\n",
    "vocab_df = pd.DataFrame({\n",
    "    \"token\": list(vocab.keys()),\n",
    "    \"token_id\": list(vocab.values())\n",
    "})\n",
    "\n",
    "print(vocab_df)\n",
    "vocab_df = vocab_df.sort_values(by=\"token_id\").set_index(\"token_id\")\n",
    "print(vocab_df)\n",
    "\n",
    "\n"
   ]
  },
  {
   "cell_type": "code",
   "execution_count": null,
   "id": "82fc9400",
   "metadata": {},
   "outputs": [],
   "source": [
    "token_ids = tokenizer.encode(sentence)\n",
    "print(token_ids)\n",
    "\n",
    "len(tokens)\n",
    "len(token_ids)\n",
    "\n",
    "list(zip(tokens, token_ids[1:-1]))"
   ]
  },
  {
   "cell_type": "code",
   "execution_count": null,
   "id": "94ddf408",
   "metadata": {},
   "outputs": [],
   "source": [
    "tokenizer.encode(sentence)"
   ]
  },
  {
   "cell_type": "code",
   "execution_count": null,
   "id": "39a57d40",
   "metadata": {},
   "outputs": [],
   "source": [
    "tokenizer.decode(token_ids)"
   ]
  },
  {
   "cell_type": "code",
   "execution_count": null,
   "id": "f041f4e3",
   "metadata": {},
   "outputs": [],
   "source": [
    "tokenizer_output = tokenizer(sentence)\n",
    "print(tokenizer_output)\n"
   ]
  },
  {
   "cell_type": "code",
   "execution_count": null,
   "id": "3f29e3d8",
   "metadata": {},
   "outputs": [],
   "source": [
    "encoded_inputs = tokenizer(sentence, return_tensors=\"pt\")\n",
    "print(encoded_inputs)\n",
    "\n",
    "\n",
    "output = model(**encoded_inputs)\n",
    "\n",
    "\n",
    "\n"
   ]
  }
 ],
 "metadata": {
  "kernelspec": {
   "display_name": "Python (model1-venv)",
   "language": "python",
   "name": "model1-venv"
  },
  "language_info": {
   "codemirror_mode": {
    "name": "ipython",
    "version": 3
   },
   "file_extension": ".py",
   "mimetype": "text/x-python",
   "name": "python",
   "nbconvert_exporter": "python",
   "pygments_lexer": "ipython3",
   "version": "3.11.9"
  }
 },
 "nbformat": 4,
 "nbformat_minor": 5
}
