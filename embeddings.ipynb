{
 "cells": [
  {
   "cell_type": "code",
   "execution_count": null,
   "id": "6cc84fae",
   "metadata": {},
   "outputs": [],
   "source": [
    "from transformers import AutoTokenizer, BertModel\n",
    "import torch\n",
    "\n",
    "model_name = \"bert-base-cased\"\n",
    "tokenizer = AutoTokenizer.from_pretrained(model_name)\n",
    "model = BertModel.from_pretrained(model_name)\n",
    "\n",
    "sentence = \"When to use BERT?\"\n",
    "\n",
    "encoded_input = tokenizer(sentence, return_tensors=\"pt\")\n",
    "output = model(**encoded_input)\n",
    "print(output)\n"
   ]
  },
  {
   "cell_type": "code",
   "execution_count": null,
   "id": "547bdee5",
   "metadata": {},
   "outputs": [],
   "source": [
    "last_hidden_state = output.last_hidden_state\n",
    "print(last_hidden_state.shape)\n",
    "\n",
    "# Get the first token's hidden state\n",
    "first_token_hidden_state = last_hidden_state[0, 0, :]\n",
    "print(first_token_hidden_state.shape)\n",
    "\n",
    "# Get the last token's hidden state\n",
    "last_token_hidden_state = last_hidden_state[:, -1, :]\n",
    "print(last_token_hidden_state.shape)"
   ]
  },
  {
   "cell_type": "code",
   "execution_count": null,
   "id": "a3094477",
   "metadata": {},
   "outputs": [],
   "source": [
    "tokens = tokenizer.tokenize(sentence)\n",
    "print(tokens)\n",
    "embeddings = output[0: tokens.index(\"use\")]\n",
    "print(embeddings)"
   ]
  },
  {
   "cell_type": "code",
   "execution_count": null,
   "id": "162937e3",
   "metadata": {},
   "outputs": [],
   "source": [
    "sentence2 = \"use YouTube to learn BERT\"\n",
    "\n",
    "encoded_input2 = tokenizer(sentence2, return_tensors=\"pt\")\n",
    "output2 = model(**encoded_input2)[0]\n",
    "print(output2)\n",
    "tokens2 = tokenizer.tokenize(sentence2)\n",
    "print(tokens2)\n",
    "\n",
    "embeddings2 = output2[0:, tokens2.index(\"use\"), :].detach()\n",
    "print(embeddings2)"
   ]
  }
 ],
 "metadata": {
  "kernelspec": {
   "display_name": "venv",
   "language": "python",
   "name": "python3"
  },
  "language_info": {
   "codemirror_mode": {
    "name": "ipython",
    "version": 3
   },
   "file_extension": ".py",
   "mimetype": "text/x-python",
   "name": "python",
   "nbconvert_exporter": "python",
   "pygments_lexer": "ipython3",
   "version": "3.11.9"
  }
 },
 "nbformat": 4,
 "nbformat_minor": 5
}
