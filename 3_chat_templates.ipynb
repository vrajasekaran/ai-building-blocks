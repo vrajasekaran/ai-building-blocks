{
 "cells": [
  {
   "cell_type": "code",
   "execution_count": 12,
   "id": "68946267",
   "metadata": {},
   "outputs": [
    {
     "data": {
      "text/plain": [
       "\"<s> [INST] Hello, how are you? [/INST] I'm doing great, thank you!</s> [INST] What is special about Mistral? [/INST]\""
      ]
     },
     "execution_count": 12,
     "metadata": {},
     "output_type": "execute_result"
    }
   ],
   "source": [
    "from transformers import AutoTokenizer\n",
    "messages = [\n",
    "    {\"role\": \"user\", \"content\": \"Hello, how are you?\"},\n",
    "    {\"role\": \"assistant\", \"content\": \"I'm doing great, thank you!\"},\n",
    "    {\"role\": \"user\", \"content\": \"What is special about Mistral?\"},\n",
    "]\n",
    "\n",
    "tokenizer2 = AutoTokenizer.from_pretrained(\"unsloth/mistral-7b-instruct-v0.2\")\n",
    "tokenizer2.apply_chat_template(\n",
    "    messages,\n",
    "    tokenize=False,\n",
    ")\n",
    "\n"
   ]
  },
  {
   "cell_type": "code",
   "execution_count": 13,
   "id": "09867829",
   "metadata": {},
   "outputs": [
    {
     "data": {
      "text/plain": [
       "\"<bos><start_of_turn>user\\nHello, how are you?<end_of_turn>\\n<start_of_turn>model\\nI'm doing great, thank you!<end_of_turn>\\n<start_of_turn>user\\nWhat is special about Mistral?<end_of_turn>\\n<start_of_turn>model\\n\""
      ]
     },
     "execution_count": 13,
     "metadata": {},
     "output_type": "execute_result"
    }
   ],
   "source": [
    "tokenizer = AutoTokenizer.from_pretrained(\"unsloth/gemma-2-9b-it\")\n",
    "tokenizer.apply_chat_template(\n",
    "    messages,\n",
    "    tokenize=False,\n",
    "    add_generation_prompt=True,\n",
    ")"
   ]
  },
  {
   "cell_type": "code",
   "execution_count": 14,
   "id": "9f9b0a99",
   "metadata": {},
   "outputs": [
    {
     "data": {
      "text/plain": [
       "\"<|begin_of_text|><|start_header_id|>system<|end_header_id|>\\n\\nCutting Knowledge Date: December 2023\\nToday Date: 26 Jul 2024\\n\\n<|eot_id|><|start_header_id|>user<|end_header_id|>\\n\\nHello, how are you?<|eot_id|><|start_header_id|>assistant<|end_header_id|>\\n\\nI'm doing great, thank you!<|eot_id|><|start_header_id|>user<|end_header_id|>\\n\\nWhat is special about Mistral?<|eot_id|>\""
      ]
     },
     "execution_count": 14,
     "metadata": {},
     "output_type": "execute_result"
    }
   ],
   "source": [
    "tokenizer2 = AutoTokenizer.from_pretrained(\"unsloth/llama-3.1-8b-instruct\")\n",
    "tokenizer2.apply_chat_template(\n",
    "    messages,\n",
    "    tokenize=False,\n",
    ")"
   ]
  }
 ],
 "metadata": {
  "kernelspec": {
   "display_name": "venv",
   "language": "python",
   "name": "python3"
  },
  "language_info": {
   "codemirror_mode": {
    "name": "ipython",
    "version": 3
   },
   "file_extension": ".py",
   "mimetype": "text/x-python",
   "name": "python",
   "nbconvert_exporter": "python",
   "pygments_lexer": "ipython3",
   "version": "3.11.9"
  }
 },
 "nbformat": 4,
 "nbformat_minor": 5
}
